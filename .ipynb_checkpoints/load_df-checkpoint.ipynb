{
 "cells": [
  {
   "cell_type": "code",
   "execution_count": 6,
   "metadata": {},
   "outputs": [],
   "source": [
    "import sys\n",
    "from statistics import mean, stdev, variance\n",
    "import numpy as np\n",
    "import pandas as pd\n",
    "from re import sub\n",
    "import math\n",
    "import operator\n",
    "\n",
    "import matplotlib.pyplot as plt\n",
    "import seaborn as sns"
   ]
  },
  {
   "cell_type": "code",
   "execution_count": 2,
   "metadata": {},
   "outputs": [],
   "source": [
    "def readin(fileName):\n",
    "    inFile = open(fileName, 'r')\n",
    "    \n",
    "    line = inFile.readline().strip()\n",
    "    headings = line.split('\\t')\n",
    "       \n",
    "    data = {}\n",
    "    line = inFile.readline()\n",
    "    while line !=\"\":\n",
    "        row = line.split('\\t')\n",
    "        vals = row[1:]\n",
    "        for i in vals: i = float(i)\n",
    "        data[(row[0])] = vals\n",
    "        line = inFile.readline()\n",
    "        \n",
    "    df = pd.DataFrame.from_dict(data, dtype = float, orient='index',columns = headings[1:])\n",
    "    return df\n",
    "\n",
    "def readin_log(fileName):\n",
    "    df = readin(fileName)\n",
    "    dfl = (np.log(df)).replace(-np.inf, 0)\n",
    "    return dfl"
   ]
  },
  {
   "cell_type": "code",
   "execution_count": 3,
   "metadata": {},
   "outputs": [],
   "source": [
    "def by_sample(ms3data, technical_replicates):\n",
    "    #separates the data from readin into the samples\n",
    "    msSamples = {}\n",
    "    for sample in technical_replicates:\n",
    "        reps = {}\n",
    "        for rep in technical_replicates[sample]:\n",
    "            reps[ms3data.iloc[:,rep].name] = ms3data.iloc[:,rep]\n",
    "        msSamples[sample] = pd.DataFrame.from_dict(reps, dtype = float)\n",
    "    \n",
    "    return msSamples"
   ]
  },
  {
   "cell_type": "markdown",
   "metadata": {},
   "source": [
    "## Graphed types"
   ]
  },
  {
   "cell_type": "code",
   "execution_count": null,
   "metadata": {},
   "outputs": [],
   "source": [
    "def hist_vs_neg(data, channels,title=\"Neg Control vs Samples\"):\n",
    "    plt.xscale('log')\n",
    "    plt.title(title)\n",
    "    \n",
    "    for key in channels:\n",
    "        column = data[key]\n",
    "        column = np.sort(column.values)\n",
    "        plt.hist(column, alpha = .5, bins=np.logspace(0, 8), label=channels[key])\n",
    "    \n",
    "    plt.legend(loc='upper right')\n",
    "    plt.xlabel(\"Intensity Value\")\n",
    "    plt.ylabel(\"Number of Proteins\")\n",
    "\n",
    "    plt.show()"
   ]
  },
  {
   "cell_type": "markdown",
   "metadata": {},
   "source": [
    "### ROC graphs\n",
    "\n",
    "< img src=./figures/ex_curve.jpg width=\"500\">"
   ]
  },
  {
   "cell_type": "code",
   "execution_count": 4,
   "metadata": {},
   "outputs": [],
   "source": [
    "def ROC_plot(msdata, neg_col_name, technical_replicates, rep_name, as_fraction=False):\n",
    "    #Generates the points for the curve showing\n",
    "    #    y-axis: how many sample points are included\n",
    "    #    x-axis: how many points from the negative control are\n",
    "    #    as the threshold changes.\n",
    "    #    See the exaggerated curve above for further clarification.\n",
    "    #\n",
    "    #    as_fraction:\n",
    "    #      True: generates the curves scaled to total number, as decimal\n",
    "    #      False: generates curves in terms of absolute number of proteins\n",
    "    #\n",
    "    #    returns a dictionary of points.\n",
    "    #    must then be plotted by plt.plot(points.values(), points.keys())\n",
    "    \n",
    "    samples = by_sample(msdata, technical_replicates)\n",
    "    neg_cont = msdata.loc[:,neg_col_name]\n",
    "    neg_cont = np.array(neg_cont)\n",
    "\n",
    "    sample = np.array(samples[rep_name].values.flatten())\n",
    "\n",
    "    all_data = np.concatenate((neg_cont, sample))\n",
    "    all_data = np.unique(all_data)\n",
    "    all_data.sort()\n",
    "    all_data = all_data[::-1]\n",
    "    \n",
    "    points = {}\n",
    "    total = len(all_data)\n",
    "    for t in all_data:\n",
    "        x = len([i for i in neg_cont if i > t])\n",
    "        if as_fraction: x=x / len((neg_cont))\n",
    "        y = len([i for i in sample if i > t])\n",
    "        if as_fraction: y=y / len(skipZero(sample))\n",
    "        points[y] = x\n",
    "            \n",
    "    return points"
   ]
  },
  {
   "cell_type": "code",
   "execution_count": 7,
   "metadata": {},
   "outputs": [],
   "source": [
    "def ROC_all(data, neg_col, cols=list(range(0,10)), boost=None, as_fraction=False, labels=None):\n",
    "    #Calculates and graphs the ROC-like curve for all columns in range.\n",
    "    #    specifying the boost draws it first, coloring it blue\n",
    "    #    as_fraction:\n",
    "    #      True: generates the curves scaled to total number, as decimal\n",
    "    #      False: generates curves in terms of absolute number of proteins\n",
    "    plt.xlabel(\"Control Proteins\")\n",
    "    plt.ylabel(\"Sample Proteins\")\n",
    "    \n",
    "    if boost==None: boost_index = None\n",
    "    else: boost_index = data.columns.get_loc(boost)\n",
    "    \n",
    "    if boost!=None:\n",
    "        p = ROC_plot(data, neg_col, {'a':[boost_index]}, 'a', as_fraction=as_fraction)\n",
    "        if labels:\n",
    "            plt.plot(p.values(), p.keys(), label=labels[boost])\n",
    "        else:\n",
    "            plt.plot(p.values(), p.keys())\n",
    "    for i in cols:\n",
    "        if i != data.columns.get_loc(neg_col) and i != boost_index:\n",
    "            p = ROC_plot(data, neg_col, {'a':[i]}, 'a', as_fraction=as_fraction)       \n",
    "            if labels:\n",
    "                label = labels[(data.columns.values)[i]]\n",
    "                plt.plot(p.values(), p.keys(), label=label)\n",
    "            else:\n",
    "                plt.plot(p.values(), p.keys())\n",
    "    if labels: plt.legend(loc='lower right')"
   ]
  },
  {
   "cell_type": "code",
   "execution_count": null,
   "metadata": {},
   "outputs": [],
   "source": []
  }
 ],
 "metadata": {
  "kernelspec": {
   "display_name": "Python 3",
   "language": "python",
   "name": "python3"
  },
  "language_info": {
   "codemirror_mode": {
    "name": "ipython",
    "version": 3
   },
   "file_extension": ".py",
   "mimetype": "text/x-python",
   "name": "python",
   "nbconvert_exporter": "python",
   "pygments_lexer": "ipython3",
   "version": "3.7.3"
  }
 },
 "nbformat": 4,
 "nbformat_minor": 2
}
