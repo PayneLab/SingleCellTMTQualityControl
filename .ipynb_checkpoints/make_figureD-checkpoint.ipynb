{
 "cells": [
  {
   "cell_type": "markdown",
   "metadata": {},
   "source": [
    "# Figure D. Noise to Signal Ratio\n",
    "\n",
    "One standard measure of data quality is how many times stronger the signal is than the noise. We measure noise with the blank channel. Here it is compared to the signal from one cell."
   ]
  },
  {
   "cell_type": "markdown",
   "metadata": {},
   "source": [
    "First, we import our data loader module. It also contains the graphing function."
   ]
  },
  {
   "cell_type": "code",
   "execution_count": 1,
   "metadata": {},
   "outputs": [],
   "source": [
    "import load_df"
   ]
  },
  {
   "cell_type": "markdown",
   "metadata": {},
   "source": [
    "Then we use the <code>load_dataset</code> function to get the intensity values from the example dataset. See data.md for more information on this example file."
   ]
  },
  {
   "cell_type": "code",
   "execution_count": 2,
   "metadata": {},
   "outputs": [],
   "source": [
    "file = \"data\\proteinGroups_PNNL_TMT_SC_Chip1_A.txt\"\n",
    "data = load_df.load_dataset(file)"
   ]
  },
  {
   "cell_type": "markdown",
   "metadata": {},
   "source": [
    "We define two variables here. These are the column or channel names. First is a dictionary of the channels to use in the graph. These need the column name that appears in the file. This allows the function to get the right ones. The value, here <code>Cell 1</code>, is the label we want in our graph.\n",
    "\n",
    "The second variable, <code>blank</code> is the column name from the file for the blank.\n",
    "\n",
    "If you are unsure what the column names are, run:<br> <code>print(data.columns.values)</code>"
   ]
  },
  {
   "cell_type": "code",
   "execution_count": 3,
   "metadata": {},
   "outputs": [],
   "source": [
    "#Labels to use in the graph, by column name.\n",
    "#If you are unsure what your columns are named, run:\n",
    "#print(data.columns.values)\n",
    "channels = {\n",
    "    'Reporter intensity 1 PNNL SC Chip1 A':'Cell 1',\n",
    "}\n",
    "\n",
    "blank = 'Reporter intensity 9 PNNL SC Chip1 A'"
   ]
  },
  {
   "cell_type": "markdown",
   "metadata": {},
   "source": [
    "Now we have all the information used in making the graph. We pass this to the <code>hist_ratios</code> function. In addition to making the graph, it will print some extra details such as the number of proteins at zero (meaning 0.0 was detected in the blank), the average, and 95% threshold value. "
   ]
  },
  {
   "cell_type": "code",
   "execution_count": 4,
   "metadata": {},
   "outputs": [],
   "source": [
    "#load_df.hist_ratios(data, channels, blank)"
   ]
  },
  {
   "cell_type": "markdown",
   "metadata": {},
   "source": [
    "In the graph above, zeros were not shown because the large number of them makes the scale too large to see the non-zero data clearly. This option may be changed by adding the argument <code>show_zeros=True</code><br>\n",
    "Note that we also hide the statistical details shown above with <code>details=False</code>"
   ]
  },
  {
   "cell_type": "code",
   "execution_count": 5,
   "metadata": {
    "scrolled": false
   },
   "outputs": [
    {
     "data": {
      "image/png": "[encoded data removed]",
      "text/plain": [
       "<Figure size 432x288 with 2 Axes>"
      ]
     },
     "metadata": {
      "needs_background": "light"
     },
     "output_type": "display_data"
    }
   ],
   "source": [
    "load_df.hist_ratios(data, channels, blank,\n",
    "                    show_zeros='no_break', details=False)"
   ]
  }
 ],
 "metadata": {
  "kernelspec": {
   "display_name": "Python 3",
   "language": "python",
   "name": "python3"
  },
  "language_info": {
   "codemirror_mode": {
    "name": "ipython",
    "version": 3
   },
   "file_extension": ".py",
   "mimetype": "text/x-python",
   "name": "python",
   "nbconvert_exporter": "python",
   "pygments_lexer": "ipython3",
   "version": "3.7.3"
  }
 },
 "nbformat": 4,
 "nbformat_minor": 2
}
