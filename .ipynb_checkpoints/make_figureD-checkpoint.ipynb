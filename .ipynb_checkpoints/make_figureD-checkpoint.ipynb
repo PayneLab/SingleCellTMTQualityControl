{
 "cells": [
  {
   "cell_type": "markdown",
   "metadata": {},
   "source": [
    "# Figure D. Noise to Signal Ratio\n",
    "\n",
    "One standard measure of data quality is how many times stronger the signal is than the noise. We measure noise with the blank channel. Here it is compared to the signal from one cell."
   ]
  },
  {
   "cell_type": "markdown",
   "metadata": {},
   "source": [
    "First, we import our data loader module and the function we use."
   ]
  },
  {
   "cell_type": "code",
   "execution_count": 1,
   "metadata": {},
   "outputs": [],
   "source": [
    "import load_df"
   ]
  },
  {
   "cell_type": "markdown",
   "metadata": {},
   "source": [
    "Then we use the <code>load_dataset</code> function to get the intensity values from the example dataset. See data.md for more information on this example file."
   ]
  },
  {
   "cell_type": "code",
   "execution_count": 2,
   "metadata": {},
   "outputs": [],
   "source": [
    "file = \"data\\proteinGroups_PNNL_TMT_SC_Chip1_A.txt\"\n",
    "data = load_df.load_dataset(file)"
   ]
  },
  {
   "cell_type": "markdown",
   "metadata": {},
   "source": [
    "We define two variables here. These are the column or channel names. First is a dictionary of the channels to use in the graph. These need the column name that appears in the file. This allows the function to get the right ones. The key, here <code>Cell 1</code>, is the label we want in our graph.\n",
    "\n",
    "The second variable, <code>blank</code> is the column name from the file for the blank.\n",
    "\n",
    "If you are unsure what the column names are, run:<br> <code>print(data.columns.values)</code>"
   ]
  },
  {
   "cell_type": "code",
   "execution_count": 3,
   "metadata": {},
   "outputs": [],
   "source": [
    "#Labels to use in the graph, by column name.\n",
    "#If you are unsure what your columns are named, run:\n",
    "#print(data.columns.values)\n",
    "channels = {\n",
    "    'Reporter intensity 1 PNNL SC Chip1 A':'Cell 1',\n",
    "}\n",
    "\n",
    "blank = 'Reporter intensity 9 PNNL SC Chip1 A'"
   ]
  },
  {
   "cell_type": "markdown",
   "metadata": {},
   "source": [
    "Now we have all the information used in making the graph. We pass this to the <code>hist_ratios</code> function. In addition to making the graph, it will print some extra details such as the number of proteins at zero (meaning 0.0 was detected in the blank), the average, and 95% threshold value. "
   ]
  },
  {
   "cell_type": "code",
   "execution_count": 4,
   "metadata": {},
   "outputs": [
    {
     "name": "stdout",
     "output_type": "stream",
     "text": [
      "Cell 1:\n",
      "687 of 870 are 0.0\n",
      "Average: 0.0145\n",
      "95% Threshold: 0.0827\n"
     ]
    },
    {
     "data": {
      "image/png": "[encoded data removed]",
      "text/plain": [
       "<Figure size 432x288 with 2 Axes>"
      ]
     },
     "metadata": {
      "needs_background": "light"
     },
     "output_type": "display_data"
    }
   ],
   "source": [
    "load_df.hist_ratios(data, channels, blank)"
   ]
  },
  {
   "cell_type": "markdown",
   "metadata": {},
   "source": [
    "In the graph above, zeros were not shown because the large number of them makes the scale too large to see the non-zero data clearly. This option may be changed by adding the argument <code>show_zeros=True</code><br>\n",
    "Note that we also hide the statistical details shown above with <code>details=False</code>"
   ]
  },
  {
   "cell_type": "code",
   "execution_count": 5,
   "metadata": {
    "scrolled": false
   },
   "outputs": [
    {
     "ename": "NameError",
     "evalue": "name 'nload_df' is not defined",
     "output_type": "error",
     "traceback": [
      "\u001b[1;31m---------------------------------------------------------------------------\u001b[0m",
      "\u001b[1;31mNameError\u001b[0m                                 Traceback (most recent call last)",
      "\u001b[1;32m<ipython-input-5-8a6e883efeef>\u001b[0m in \u001b[0;36m<module>\u001b[1;34m\u001b[0m\n\u001b[1;32m----> 1\u001b[1;33m nload_df.hist_ratios(data, channels, blank,\n\u001b[0m\u001b[0;32m      2\u001b[0m                    show_zeros=True, details=False)\n",
      "\u001b[1;31mNameError\u001b[0m: name 'nload_df' is not defined"
     ]
    }
   ],
   "source": [
    " load_df.hist_ratios(data, channels, blank,\n",
    "                    show_zeros=True, details=False)"
   ]
  }
 ],
 "metadata": {
  "kernelspec": {
   "display_name": "Python 3",
   "language": "python",
   "name": "python3"
  },
  "language_info": {
   "codemirror_mode": {
    "name": "ipython",
    "version": 3
   },
   "file_extension": ".py",
   "mimetype": "text/x-python",
   "name": "python",
   "nbconvert_exporter": "python",
   "pygments_lexer": "ipython3",
   "version": "3.7.3"
  }
 },
 "nbformat": 4,
 "nbformat_minor": 2
}
