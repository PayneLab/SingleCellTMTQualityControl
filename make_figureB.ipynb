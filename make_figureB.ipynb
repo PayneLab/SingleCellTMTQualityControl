{
 "cells": [
  {
   "cell_type": "markdown",
   "metadata": {},
   "source": [
    "# Figure B. Raw Intensity Histogram\n",
    "\n",
    "This data quality metric compares the intensities of proteins from a single cell to the bank channel. The expectation is that the signal from a single cell should be stronger than the blank. This expectation is graphically displayed as a histogram with two or more data series. "
   ]
  },
  {
   "cell_type": "markdown",
   "metadata": {},
   "source": [
    "First, we import our data loader module."
   ]
  },
  {
   "cell_type": "code",
   "execution_count": 1,
   "metadata": {},
   "outputs": [],
   "source": [
    "import load_data\n",
    "from plot_utils import hist_comp_channels"
   ]
  },
  {
   "cell_type": "markdown",
   "metadata": {},
   "source": [
    "Then we use the <code>load_dataset</code> function to get the intensity values from the example dataset. See data.md for more information on this example file."
   ]
  },
  {
   "cell_type": "code",
   "execution_count": 2,
   "metadata": {},
   "outputs": [],
   "source": [
    "file = \"data/proteinGroups_PNNL_TMT_SC_Chip1_A.txt\"\n",
    "data = load_data.load_dataset(file)"
   ]
  },
  {
   "cell_type": "markdown",
   "metadata": {},
   "source": [
    "Here we define a dictionary of the channel names. This allows us to select the channels to compare and alter the labels in the graph from the channel names to more descriptive names such as Cell 1 and Blank.\n",
    "\n",
    "This dictionary is organized as <code>'channel name':'label'</code> where the channel name is the column header from the file. This allows the function to get the right ones. Next to it is the label we want in our graph.\n",
    "\n",
    "If you are unsure what the column names are, run:<br> <code>print(data.columns.values)</code>"
   ]
  },
  {
   "cell_type": "code",
   "execution_count": 3,
   "metadata": {},
   "outputs": [],
   "source": [
    "#Labels to use in the graph, by column name.\n",
    "channels = {\n",
    "    'Reporter intensity 1 PNNL SC Chip1 A':'Cell 1',\n",
    "    'Reporter intensity 9 PNNL SC Chip1 A':'Blank'\n",
    "}"
   ]
  },
  {
   "cell_type": "markdown",
   "metadata": {},
   "source": [
    "We can now call our <code>hist_comp_channels</code> function to generate the graph. This graphs and labels each channel."
   ]
  },
  {
   "cell_type": "code",
   "execution_count": 4,
   "metadata": {},
   "outputs": [
    {
     "data": {
      "image/png": "[encoded data removed]",
      "text/plain": [
       "<Figure size 432x288 with 3 Axes>"
      ]
     },
     "metadata": {
      "needs_background": "light"
     },
     "output_type": "display_data"
    }
   ],
   "source": [
    "hist_comp_channels(data, channels, title=\"Cell 1 vs Blank\")"
   ]
  },
  {
   "cell_type": "markdown",
   "metadata": {},
   "source": [
    "By default, the zero values are shown. As you see above, the blank channel had many fewer detected proteins detected than did Cell 1.\n",
    "\n",
    "You may also wish to hide the zero-value data. This can be done by adding the parameter <code>show_zeros=False</code> to the function call."
   ]
  }
 ],
 "metadata": {
  "kernelspec": {
   "display_name": "Python 3",
   "language": "python",
   "name": "python3"
  },
  "language_info": {
   "codemirror_mode": {
    "name": "ipython",
    "version": 3
   },
   "file_extension": ".py",
   "mimetype": "text/x-python",
   "name": "python",
   "nbconvert_exporter": "python",
   "pygments_lexer": "ipython3",
   "version": "3.7.3"
  }
 },
 "nbformat": 4,
 "nbformat_minor": 2
}
