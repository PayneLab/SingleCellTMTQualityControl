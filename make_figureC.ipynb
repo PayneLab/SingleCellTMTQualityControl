{
 "cells": [
  {
   "cell_type": "markdown",
   "metadata": {},
   "source": [
    "# Figure C. Noise to Signal Ratio\n",
    "\n",
    "One standard measure of data quality is how many times stronger the signal is than the noise. We measure noise with the blank channel. Here it is compared to the signal from one cell."
   ]
  },
  {
   "cell_type": "markdown",
   "metadata": {},
   "source": [
    "First, we import our data loader module and the graphing function."
   ]
  },
  {
   "cell_type": "code",
   "execution_count": 1,
   "metadata": {},
   "outputs": [],
   "source": [
    "import load_data\n",
    "from plot_utils import hist_ratios"
   ]
  },
  {
   "cell_type": "markdown",
   "metadata": {},
   "source": [
    "Then we use the <code>load_dataset</code> function to get the intensity values from the example dataset. See data.md for more information on this example file."
   ]
  },
  {
   "cell_type": "code",
   "execution_count": 2,
   "metadata": {},
   "outputs": [],
   "source": [
    "file = \"data\\proteinGroups_PNNL_TMT_SC_Chip1_A.txt\"\n",
    "data = load_data.load_dataset(file)"
   ]
  },
  {
   "cell_type": "markdown",
   "metadata": {},
   "source": [
    "We define two variables here. These are the column or channel names. First is a dictionary of the channels to use in the graph. These need the column name that appears in the file. This allows the function to get the right ones. The value, here <code>Cell 1</code>, is the label we want in our graph.\n",
    "\n",
    "The second variable, <code>blank</code> is the column name from the file for the blank.\n",
    "\n",
    "If you are unsure what the column names are, run:<br> <code>print(data.columns.values)</code>"
   ]
  },
  {
   "cell_type": "code",
   "execution_count": 3,
   "metadata": {},
   "outputs": [],
   "source": [
    "#Labels to use in the graph, by column name.\n",
    "channels = {\n",
    "    'Reporter intensity 1 PNNL SC Chip1 A':'Cell 1',\n",
    "}\n",
    "\n",
    "blank = 'Reporter intensity 9 PNNL SC Chip1 A'"
   ]
  },
  {
   "cell_type": "markdown",
   "metadata": {},
   "source": [
    "Now we have all the information used in making the graph. We pass this to the <code>hist_ratios</code> function. In addition to making the graph, it will print some extra details such as the number of proteins at zero (meaning 0.0 was detected in the blank), the average, and 95% threshold value. "
   ]
  },
  {
   "cell_type": "code",
   "execution_count": 4,
   "metadata": {},
   "outputs": [
    {
     "name": "stdout",
     "output_type": "stream",
     "text": [
      "Cell 1:\n",
      "687 of 870 are 0.0\n",
      "Average: 0.0145\n",
      "95% Threshold: 0.0827 (1 to 12.1)\n",
      "99.08% passed a 0.2 threshold (1 to 5.0)\n"
     ]
    },
    {
     "data": {
      "image/png": "[encoded data removed]",
      "text/plain": [
       "<Figure size 432x288 with 2 Axes>"
      ]
     },
     "metadata": {
      "needs_background": "light"
     },
     "output_type": "display_data"
    }
   ],
   "source": [
    "ratios = hist_ratios(data, channels, blank)"
   ]
  },
  {
   "cell_type": "markdown",
   "metadata": {},
   "source": [
    "In this graph, zeros were shown with the broken axis because the large number would otherwise make the scale too large to see the rest clearly. This option may be changed by adding the argument <code>show_zeros=True</code><br>\n",
    "Note that we can hide the statistical details shown above with <code>details=False</code>\n",
    "To change the cuttoff, use the <code>cutoff</code> parameter."
   ]
  }
 ],
 "metadata": {
  "kernelspec": {
   "display_name": "Python 3",
   "language": "python",
   "name": "python3"
  },
  "language_info": {
   "codemirror_mode": {
    "name": "ipython",
    "version": 3
   },
   "file_extension": ".py",
   "mimetype": "text/x-python",
   "name": "python",
   "nbconvert_exporter": "python",
   "pygments_lexer": "ipython3",
   "version": "3.7.3"
  }
 },
 "nbformat": 4,
 "nbformat_minor": 2
}
