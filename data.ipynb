{
 "cells": [
  {
   "cell_type": "markdown",
   "metadata": {},
   "source": []
  },
  {
   "cell_type": "markdown",
   "metadata": {},
   "source": [
    "### High-Throughput Single Cell Proteomics Enabled by Multiplex Isobaric Labeling in a Nanodroplet Sample Preparation Platform\n",
    "Maowei Dou, Geremy Clair, Chia-Feng Tsai, Kerui Xu, William B. Chrisler, Ryan L. Sontag, Rui Zhao, Ronald J. Moore, Tao Liu, Ljiljana Pasa-Tolic, Richard D. Smith, Tujin Shi, Joshua N. Adkins, Wei-Jun Qian, Ryan T. Kelly, Charles Ansong, and Ying Zhu\n",
    "Analytical Chemistry Article ASAP\n",
    "DOI: 10.1021/acs.analchem.9b03349\n",
    "\n",
    "#### This paper is available at:\n",
    "https://pubs.acs.org/doi/10.1021/acs.analchem.9b03349\n",
    "\n",
    "#### We demonstrate using data from Figure 4. The raw files are available at:\n",
    " ftp://massive.ucsd.edu/MSV000084110/raw/Raw_Spectrum_Files/\n",
    "\n",
    "#### Raw files from chip 1 were processed using MaxQuant.<br/>MaxQuant gives a combined folder. Under this is a txt folder. One of the output files is proteinGroups. This file is:\n",
    "\n",
    "data\\PNNL TMT SC\\proteinGroups_PNNL_TMT_SC_Chip1.txt<br />\n",
    "\n",
    "#### The first column is the IDs. Later reporter intensities are identified. These intensities are saved saved in idividual files below, for readability. Each of these represents a separate TMT run. In our figures we use the run from row A on Chip 1.\n",
    "\n",
    "data\\PNNL TMT SC\\proteinGroups_PNNL_TMT_SC_Chip1_A.txt<br />\n",
    "data\\PNNL TMT SC\\proteinGroups_PNNL_TMT_SC_Chip1_B.txt<br />\n",
    "data\\PNNL TMT SC\\proteinGroups_PNNL_TMT_SC_Chip1_C.txt<br />"
   ]
  }
 ],
 "metadata": {
  "kernelspec": {
   "display_name": "Python 3",
   "language": "python",
   "name": "python3"
  },
  "language_info": {
   "codemirror_mode": {
    "name": "ipython",
    "version": 3
   },
   "file_extension": ".py",
   "mimetype": "text/x-python",
   "name": "python",
   "nbconvert_exporter": "python",
   "pygments_lexer": "ipython3",
   "version": "3.7.3"
  }
 },
 "nbformat": 4,
 "nbformat_minor": 2
}
